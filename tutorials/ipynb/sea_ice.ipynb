{
 "cells": [
  {
   "cell_type": "markdown",
   "id": "5d69784f-2357-4cb8-84c6-03533f15061e",
   "metadata": {},
   "source": [
    "# Get sea ice concentration in a polygon\n",
    "\n",
    "The data files are here https://noaadata.apps.nsidc.org/NOAA/G02135/south/daily/geotiff/2023/05_May\n",
    "\n",
    "The data we are trying to process is sea ice concentration\n",
    "https://nsidc.org/data/g02202/versions/4#anchor-1"
   ]
  },
  {
   "cell_type": "markdown",
   "id": "48bdddbe-5c1d-4027-bfc0-c3b352f27425",
   "metadata": {},
   "source": [
    "## Get the list of files for May\n",
    "\n",
    "This has both sea ice extent and sea ice concentration. We want only concentration."
   ]
  },
  {
   "cell_type": "code",
   "execution_count": null,
   "id": "3635b3bb-20a4-4b04-b748-78481305a0eb",
   "metadata": {},
   "outputs": [],
   "source": [
    "import requests\n",
    "url = \"https://noaadata.apps.nsidc.org/NOAA/G02135/south/daily/geotiff/2023/05_May\"\n",
    "r = requests.get(url) \n",
    "from lxml.html import parse\n",
    "from io import StringIO\n",
    "tree = parse(StringIO(r.text)).getroot()\n",
    "files = [a.text for a in tree.iter('a')]\n",
    "sic_files = [i for i in files if 'conc' in i]"
   ]
  }
 ],
 "metadata": {
  "kernelspec": {
   "display_name": "Python 3 (ipykernel)",
   "language": "python",
   "name": "python3"
  },
  "language_info": {
   "codemirror_mode": {
    "name": "ipython",
    "version": 3
   },
   "file_extension": ".py",
   "mimetype": "text/x-python",
   "name": "python",
   "nbconvert_exporter": "python",
   "pygments_lexer": "ipython3",
   "version": "3.9.16"
  }
 },
 "nbformat": 4,
 "nbformat_minor": 5
}
